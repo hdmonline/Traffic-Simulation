{
 "cells": [
  {
   "cell_type": "code",
   "execution_count": 1,
   "metadata": {
    "ExecuteTime": {
     "end_time": "2019-04-04T22:10:16.028511Z",
     "start_time": "2019-04-04T22:10:16.020518Z"
    }
   },
   "outputs": [],
   "source": [
    "import pandas as pd\n",
    "import numpy as np"
   ]
  },
  {
   "cell_type": "markdown",
   "metadata": {},
   "source": [
    "# 1 Average travel time between each intersection\n",
    "***\n",
    "\n",
    "## 1.1 Average number of frames in each section (with and without waiting for traffic light)"
   ]
  },
  {
   "cell_type": "code",
   "execution_count": 114,
   "metadata": {
    "scrolled": false
   },
   "outputs": [
    {
     "data": {
      "text/html": [
       "<div>\n",
       "<style scoped>\n",
       "    .dataframe tbody tr th:only-of-type {\n",
       "        vertical-align: middle;\n",
       "    }\n",
       "\n",
       "    .dataframe tbody tr th {\n",
       "        vertical-align: top;\n",
       "    }\n",
       "\n",
       "    .dataframe thead th {\n",
       "        text-align: right;\n",
       "    }\n",
       "</style>\n",
       "<table border=\"1\" class=\"dataframe\">\n",
       "  <thead>\n",
       "    <tr style=\"text-align: right;\">\n",
       "      <th></th>\n",
       "      <th>Frames_withLight</th>\n",
       "      <th>Frames_withoutLight</th>\n",
       "    </tr>\n",
       "    <tr>\n",
       "      <th>Section</th>\n",
       "      <th></th>\n",
       "      <th></th>\n",
       "    </tr>\n",
       "  </thead>\n",
       "  <tbody>\n",
       "    <tr>\n",
       "      <th>0</th>\n",
       "      <td>1.950000</td>\n",
       "      <td>1.950000</td>\n",
       "    </tr>\n",
       "    <tr>\n",
       "      <th>1</th>\n",
       "      <td>55.744361</td>\n",
       "      <td>141.360902</td>\n",
       "    </tr>\n",
       "    <tr>\n",
       "      <th>2</th>\n",
       "      <td>189.120567</td>\n",
       "      <td>234.560284</td>\n",
       "    </tr>\n",
       "    <tr>\n",
       "      <th>3</th>\n",
       "      <td>211.804348</td>\n",
       "      <td>297.260870</td>\n",
       "    </tr>\n",
       "    <tr>\n",
       "      <th>4</th>\n",
       "      <td>99.899329</td>\n",
       "      <td>100.973154</td>\n",
       "    </tr>\n",
       "    <tr>\n",
       "      <th>5</th>\n",
       "      <td>231.935065</td>\n",
       "      <td>392.753247</td>\n",
       "    </tr>\n",
       "    <tr>\n",
       "      <th>6</th>\n",
       "      <td>0.600000</td>\n",
       "      <td>0.600000</td>\n",
       "    </tr>\n",
       "  </tbody>\n",
       "</table>\n",
       "</div>"
      ],
      "text/plain": [
       "         Frames_withLight  Frames_withoutLight\n",
       "Section                                       \n",
       "0                1.950000             1.950000\n",
       "1               55.744361           141.360902\n",
       "2              189.120567           234.560284\n",
       "3              211.804348           297.260870\n",
       "4               99.899329           100.973154\n",
       "5              231.935065           392.753247\n",
       "6                0.600000             0.600000"
      ]
     },
     "execution_count": 114,
     "metadata": {},
     "output_type": "execute_result"
    }
   ],
   "source": [
    "df = pd.read_csv('NGSIM-Data/trajectories-0400pm-0415pm_editted.csv')\n",
    "df = df[(df['Tot_Frames'] > 20) & (df['Intersection'] == 0) & (df['Direction'] == 2)].fillna(0)\n",
    "df_groupby_section = df.groupby(['Section', 'Vehicle_ID'])['Frame_ID', 'Veh_Velocity']\n",
    "def get_time(df):\n",
    "    idx = (df['Veh_Velocity'].values <=0).argmax()\n",
    "    if idx == 0: idx = len(df)\n",
    "    frames_withLight = df.iloc[0:idx]['Frame_ID'].max() - df.iloc[0:idx]['Frame_ID'].min()\n",
    "    frames_withoutLight = df['Frame_ID'].max() - df['Frame_ID'].min()\n",
    "    return pd.DataFrame(columns=['Frames_withLight', 'Frames_withoutLight'], data = np.vstack([frames_withLight, frames_withoutLight]).T)\n",
    "section_meanTime = df_groupby_section.apply(get_time)#.groupby(level='Section').mean()\n",
    "section_meanTime = section_meanTime.groupby(level='Section').mean()\n",
    "section_meanTime"
   ]
  },
  {
   "cell_type": "markdown",
   "metadata": {},
   "source": [
    "## 1.2 Average number of frames in each intersection\n",
    "***"
   ]
  },
  {
   "cell_type": "code",
   "execution_count": 110,
   "metadata": {},
   "outputs": [
    {
     "data": {
      "text/html": [
       "<div>\n",
       "<style scoped>\n",
       "    .dataframe tbody tr th:only-of-type {\n",
       "        vertical-align: middle;\n",
       "    }\n",
       "\n",
       "    .dataframe tbody tr th {\n",
       "        vertical-align: top;\n",
       "    }\n",
       "\n",
       "    .dataframe thead th {\n",
       "        text-align: right;\n",
       "    }\n",
       "</style>\n",
       "<table border=\"1\" class=\"dataframe\">\n",
       "  <thead>\n",
       "    <tr style=\"text-align: right;\">\n",
       "      <th></th>\n",
       "      <th>Mean Frames</th>\n",
       "    </tr>\n",
       "    <tr>\n",
       "      <th>Intersection</th>\n",
       "      <th></th>\n",
       "    </tr>\n",
       "  </thead>\n",
       "  <tbody>\n",
       "    <tr>\n",
       "      <th>1</th>\n",
       "      <td>26.595628</td>\n",
       "    </tr>\n",
       "    <tr>\n",
       "      <th>2</th>\n",
       "      <td>63.466667</td>\n",
       "    </tr>\n",
       "    <tr>\n",
       "      <th>3</th>\n",
       "      <td>45.513699</td>\n",
       "    </tr>\n",
       "    <tr>\n",
       "      <th>4</th>\n",
       "      <td>18.176871</td>\n",
       "    </tr>\n",
       "    <tr>\n",
       "      <th>5</th>\n",
       "      <td>60.763285</td>\n",
       "    </tr>\n",
       "  </tbody>\n",
       "</table>\n",
       "</div>"
      ],
      "text/plain": [
       "              Mean Frames\n",
       "Intersection             \n",
       "1               26.595628\n",
       "2               63.466667\n",
       "3               45.513699\n",
       "4               18.176871\n",
       "5               60.763285"
      ]
     },
     "execution_count": 110,
     "metadata": {},
     "output_type": "execute_result"
    }
   ],
   "source": [
    "df = pd.read_csv('NGSIM-Data/trajectories-0400pm-0415pm_editted.csv')\n",
    "df = df[(df['Tot_Frames'] > 20) & (df['Intersection'] != 0) & (df['Direction'] == 2)].fillna(0)\n",
    "df_groupby_intersection = df.groupby(['Intersection', 'Vehicle_ID'])['Frame_ID']\n",
    "intersection_meanTime = pd.DataFrame(df_groupby_intersection.agg(lambda x: x.max() - x.min()).groupby(level='Intersection').mean())\n",
    "intersection_meanTime.rename(columns={'Frame_ID':'Mean Frames'}, inplace=True)\n",
    "intersection_meanTime"
   ]
  },
  {
   "cell_type": "markdown",
   "metadata": {},
   "source": [
    "## 1.3 Adding up average time in intersections and sections \n",
    "***"
   ]
  },
  {
   "cell_type": "code",
   "execution_count": 112,
   "metadata": {},
   "outputs": [
    {
     "data": {
      "text/html": [
       "<div>\n",
       "<style scoped>\n",
       "    .dataframe tbody tr th:only-of-type {\n",
       "        vertical-align: middle;\n",
       "    }\n",
       "\n",
       "    .dataframe tbody tr th {\n",
       "        vertical-align: top;\n",
       "    }\n",
       "\n",
       "    .dataframe thead th {\n",
       "        text-align: right;\n",
       "    }\n",
       "</style>\n",
       "<table border=\"1\" class=\"dataframe\">\n",
       "  <thead>\n",
       "    <tr style=\"text-align: right;\">\n",
       "      <th></th>\n",
       "      <th>Time (seconds)</th>\n",
       "    </tr>\n",
       "    <tr>\n",
       "      <th>Intersection</th>\n",
       "      <th></th>\n",
       "    </tr>\n",
       "  </thead>\n",
       "  <tbody>\n",
       "    <tr>\n",
       "      <th>&lt;1</th>\n",
       "      <td>14.136090</td>\n",
       "    </tr>\n",
       "    <tr>\n",
       "      <th>1-2</th>\n",
       "      <td>26.115591</td>\n",
       "    </tr>\n",
       "    <tr>\n",
       "      <th>2-3</th>\n",
       "      <td>36.072754</td>\n",
       "    </tr>\n",
       "    <tr>\n",
       "      <th>3-5</th>\n",
       "      <td>55.634314</td>\n",
       "    </tr>\n",
       "    <tr>\n",
       "      <th>&gt;5</th>\n",
       "      <td>6.136329</td>\n",
       "    </tr>\n",
       "  </tbody>\n",
       "</table>\n",
       "</div>"
      ],
      "text/plain": [
       "              Time (seconds)\n",
       "Intersection                \n",
       "<1                 14.136090\n",
       "1-2                26.115591\n",
       "2-3                36.072754\n",
       "3-5                55.634314\n",
       ">5                  6.136329"
      ]
     },
     "execution_count": 112,
     "metadata": {},
     "output_type": "execute_result"
    }
   ],
   "source": [
    "time_array = np.array([section_meanTime.loc[1, 'Frames_withoutLight'], \n",
    "                       section_meanTime.loc[2, 'Frames_withoutLight'] + intersection_meanTime.loc[1], \n",
    "                       section_meanTime.loc[3, 'Frames_withoutLight'] + intersection_meanTime.loc[2], \n",
    "                       section_meanTime.loc[4, 'Frames_withLight'] + intersection_meanTime.loc[3] + \n",
    "                       section_meanTime.loc[5, 'Frames_withoutLight'] + intersection_meanTime.loc[4], \n",
    "                       section_meanTime.loc[6, 'Frames_withoutLight'] + intersection_meanTime.loc[5]])\n",
    "indices = ['<1', '1-2', '2-3', '3-5', '>5']\n",
    "time_df = pd.DataFrame(data=time_array/10, index = indices, columns = ['Time (seconds)'])\n",
    "time_df.index.set_names(names=['Intersection'], inplace=True)\n",
    "time_df"
   ]
  },
  {
   "cell_type": "markdown",
   "metadata": {},
   "source": [
    "# 2 Flow distribution from each direction per intersection"
   ]
  },
  {
   "cell_type": "markdown",
   "metadata": {},
   "source": [
    "Read file, filter cases with `Tot_Frames` > 20 and `Direction` == 2 (i.e, *Northbound* only), and remove vehicles traveling in **Sections**. "
   ]
  },
  {
   "cell_type": "code",
   "execution_count": null,
   "metadata": {},
   "outputs": [],
   "source": [
    "df = pd.read_csv('NGSIM-Data/trajectories-0400pm-0415pm_editted.csv')\n",
    "df = df[(df['Tot_Frames'] > 20) & (df['Intersection'] != 0) & (df['Direction'] == 2)].fillna(0)"
   ]
  },
  {
   "cell_type": "code",
   "execution_count": null,
   "metadata": {},
   "outputs": [],
   "source": [
    "sub_df = df[['Vehicle_ID', 'Frame_ID', 'Direction', 'Intersection', 'Movement']]\n",
    "grouped_series = sub_df.sort_values('Frame_ID').groupby(['Intersection', 'Movement', 'Vehicle_ID'])['Frame_ID']\n",
    "\n",
    "minFrame_df = pd.DataFrame(grouped_series.min()).reset_index()  # use min to only get first frame of each car in each group\n",
    "g = minFrame_df[['Intersection', 'Movement', 'Frame_ID']].groupby(['Intersection', 'Movement']) # don't have to group by VehicleID anymore because only one frame per vehicle\n",
    "dFrame_series = g.apply(lambda x: x.sort_values(by='Frame_ID',ascending=True).diff())\n",
    "\n",
    "dFrame_df = pd.DataFrame(dFrame_series['Frame_ID']).reset_index().rename(columns={'Frame_ID':'DFrame'}).drop(columns='level_2')\n",
    "grouped_results = dFrame_df.groupby(['Intersection', 'Movement'])\n",
    "frames_per_bin = 50\n",
    "bin_edges = np.arange(0,501,frames_per_bin)"
   ]
  },
  {
   "cell_type": "markdown",
   "metadata": {},
   "source": [
    "Calculate probability density and write to Distributions.csv\n",
    "***"
   ]
  },
  {
   "cell_type": "code",
   "execution_count": null,
   "metadata": {},
   "outputs": [],
   "source": [
    "with open(\"Distributions.csv\", mode='ab') as dist_file:\n",
    "    for i, (group_name, gdf) in enumerate(grouped_results): \n",
    "        hist, edges = np.histogram(gdf['DFrame'], bins=bin_edges, density=True)\n",
    "        np.savetxt(dist_file, X=np.vstack([bin_edges[1:]/10, hist*frames_per_bin]).T, fmt='%.6f', delimiter=',', header=f\"{group_name[0]},{group_name[1]},{len(hist)}\")"
   ]
  },
  {
   "cell_type": "markdown",
   "metadata": {},
   "source": [
    "# 5 Travel time from different intersection (or the first intersection) to the end\n"
   ]
  },
  {
   "cell_type": "code",
   "execution_count": null,
   "metadata": {},
   "outputs": [],
   "source": []
  },
  {
   "cell_type": "markdown",
   "metadata": {},
   "source": [
    "# 6 Average entering speed for CA "
   ]
  },
  {
   "cell_type": "code",
   "execution_count": 118,
   "metadata": {},
   "outputs": [
    {
     "name": "stdout",
     "output_type": "stream",
     "text": [
      "Average entering velocity (ft/s) = 22.494\n"
     ]
    }
   ],
   "source": [
    "df = pd.read_csv('NGSIM-Data/trajectories-0400pm-0415pm_editted.csv')\n",
    "df = df[(df['Tot_Frames'] > 20) & (df['Section'] == 1) & (df['Direction'] == 2)].fillna(0)\n",
    "grouped_df = df.groupby(['Vehicle_ID'])\n",
    "agg_df = grouped_df.apply(lambda x: x.iloc[x['Frame_ID'].values.argmin(),:])\n",
    "print(f\"Average entering velocity (ft/s) = {agg_df['Veh_Velocity'].mean():.3f}\")"
   ]
  },
  {
   "cell_type": "markdown",
   "metadata": {},
   "source": [
    "# 7 Probabilities of departure at every intersection "
   ]
  },
  {
   "cell_type": "code",
   "execution_count": null,
   "metadata": {},
   "outputs": [],
   "source": [
    "df = pd.read_csv('NGSIM-Data/trajectories-0400pm-0415pm_editted.csv')\n",
    "df = df[(df['Tot_Frames'] > 20) & (df['Intersection'] != 0) & (df['Direction'] == 2)].fillna(0)\n",
    "def get_outputs(x):\n",
    "    cols = ['Frame_ID', 'Intersection', 'Movement']\n",
    "    x['Frame_ID'] = x['Frame_ID'].values/10\n",
    "    start_df = x.loc[x['Frame_ID'].idxmin(), cols].rename(dict(zip(cols,['Start_Time (s)', 'Start_Intersection', 'Start_Direction'])))\n",
    "    end_df = x.loc[x['Frame_ID'].idxmax(), cols].rename(dict(zip(cols,['End_Time (s)', 'End_Intersection', 'End_Direction'])))\n",
    "    return pd.concat([start_df, end_df],axis=0)\n",
    "vehicle_group = df[['Vehicle_ID', 'Frame_ID', 'Intersection', 'Movement']].groupby('Vehicle_ID')\n",
    "vehicle_group.apply(get_outputs)\n",
    "outfile = vehicle_group.apply(get_outputs)\n",
    "outfile.to_csv(\"output_trafficsim.csv\")"
   ]
  }
 ],
 "metadata": {
  "kernelspec": {
   "display_name": "Python 3",
   "language": "python",
   "name": "python3"
  },
  "language_info": {
   "codemirror_mode": {
    "name": "ipython",
    "version": 3
   },
   "file_extension": ".py",
   "mimetype": "text/x-python",
   "name": "python",
   "nbconvert_exporter": "python",
   "pygments_lexer": "ipython3",
   "version": "3.7.0"
  },
  "toc": {
   "base_numbering": 1,
   "nav_menu": {},
   "number_sections": false,
   "sideBar": false,
   "skip_h1_title": false,
   "title_cell": "Table of Contents",
   "title_sidebar": "Contents",
   "toc_cell": false,
   "toc_position": {},
   "toc_section_display": false,
   "toc_window_display": false
  },
  "varInspector": {
   "cols": {
    "lenName": 16,
    "lenType": 16,
    "lenVar": 40
   },
   "kernels_config": {
    "python": {
     "delete_cmd_postfix": "",
     "delete_cmd_prefix": "del ",
     "library": "var_list.py",
     "varRefreshCmd": "print(var_dic_list())"
    },
    "r": {
     "delete_cmd_postfix": ") ",
     "delete_cmd_prefix": "rm(",
     "library": "var_list.r",
     "varRefreshCmd": "cat(var_dic_list()) "
    }
   },
   "types_to_exclude": [
    "module",
    "function",
    "builtin_function_or_method",
    "instance",
    "_Feature"
   ],
   "window_display": false
  }
 },
 "nbformat": 4,
 "nbformat_minor": 2
}
